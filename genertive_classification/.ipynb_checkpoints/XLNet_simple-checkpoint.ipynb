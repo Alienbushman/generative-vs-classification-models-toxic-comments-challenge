{
 "cells": [
  {
   "cell_type": "code",
   "execution_count": 1,
   "metadata": {
    "colab": {
     "base_uri": "https://localhost:8080/",
     "height": 364
    },
    "id": "aUzQGX2ILqMK",
    "outputId": "866def90-256b-47d3-96e2-773b7e1db2ed"
   },
   "outputs": [
    {
     "name": "stdout",
     "output_type": "stream",
     "text": [
      "/bin/bash: pip: command not found\n"
     ]
    }
   ],
   "source": [
    "!pip install transformers"
   ]
  },
  {
   "cell_type": "code",
   "execution_count": 2,
   "metadata": {
    "colab": {
     "base_uri": "https://localhost:8080/",
     "height": 81
    },
    "id": "NwTHAUqXk7_B",
    "outputId": "9ef202b9-89a1-4ebe-c4be-1f4e2ba81c30"
   },
   "outputs": [],
   "source": [
    "import os\n",
    "import math\n",
    "\n",
    "import torch\n",
    "from torch.nn import BCEWithLogitsLoss\n",
    "from torch.utils.data import TensorDataset, DataLoader, RandomSampler, SequentialSampler\n",
    "from transformers import AdamW, XLNetTokenizer, XLNetModel, XLNetLMHeadModel, XLNetConfig\n",
    "from keras.preprocessing.sequence import pad_sequences\n",
    "from sklearn.model_selection import train_test_split\n",
    "import numpy as np\n",
    "import pandas as pd\n",
    "from tqdm import tqdm, trange\n",
    "import matplotlib.pyplot as plt\n",
    "%matplotlib inline"
   ]
  },
  {
   "cell_type": "code",
   "execution_count": 3,
   "metadata": {
    "colab": {
     "base_uri": "https://localhost:8080/",
     "height": 69
    },
    "id": "o4ZY1PcIlfKW",
    "outputId": "8db41c69-4e0e-4f9f-d93f-a70e15c84d40"
   },
   "outputs": [
    {
     "name": "stdout",
     "output_type": "stream",
     "text": [
      "GPU Available: True\n",
      "Number of GPU Available: 1\n",
      "GPU: GeForce RTX 2070\n"
     ]
    }
   ],
   "source": [
    "print(\"GPU Available: {}\".format(torch.cuda.is_available()))\n",
    "n_gpu = torch.cuda.device_count()\n",
    "print(\"Number of GPU Available: {}\".format(n_gpu))\n",
    "print(\"GPU: {}\".format(torch.cuda.get_device_name(0)))"
   ]
  },
  {
   "cell_type": "code",
   "execution_count": 4,
   "metadata": {
    "id": "vothBTEKll78"
   },
   "outputs": [],
   "source": [
    "#device = torch.device(\"cuda\" if torch.cuda.is_available() else \"cpu\")"
   ]
  },
  {
   "cell_type": "markdown",
   "metadata": {
    "id": "FZbLvzAKlmsP"
   },
   "source": [
    "## Import Dataset"
   ]
  },
  {
   "cell_type": "code",
   "execution_count": 5,
   "metadata": {
    "colab": {
     "base_uri": "https://localhost:8080/",
     "height": 34
    },
    "id": "IlQpf1MmlqJI",
    "outputId": "8ba1b10c-7cdf-4f62-a235-331a0cd03926"
   },
   "outputs": [],
   "source": [
    "# from google.colab import drive\n",
    "# drive.mount('/content/drive')"
   ]
  },
  {
   "cell_type": "code",
   "execution_count": 6,
   "metadata": {
    "id": "a2Xf8DAOl0XH"
   },
   "outputs": [],
   "source": [
    "train = pd.read_csv('./data/small_train.csv', index_col='id')\n",
    "test = pd.read_csv('./data/small_test.csv', index_col='id')\n",
    "\n",
    "# train = pd.read_csv('./data/train.csv', index_col='id')\n",
    "# test = pd.read_csv('./data/test.csv', index_col='id')\n",
    "\n",
    "# train, _ = train_test_split(train, test_size=0.993, random_state=42)\n",
    "# test, _ = train_test_split(test, test_size=0.993, random_state=42)\n",
    "\n",
    "# train.to_csv('./data/small_train.csv')\n",
    "# train.to_csv('./data/small_test.csv')"
   ]
  },
  {
   "cell_type": "code",
   "execution_count": 7,
   "metadata": {
    "colab": {
     "base_uri": "https://localhost:8080/",
     "height": 238
    },
    "id": "A1CjLi8LdP1b",
    "outputId": "bf286511-5bd4-4cfe-8c00-b2d81daf47b1"
   },
   "outputs": [
    {
     "data": {
      "text/html": [
       "<div>\n",
       "<style scoped>\n",
       "    .dataframe tbody tr th:only-of-type {\n",
       "        vertical-align: middle;\n",
       "    }\n",
       "\n",
       "    .dataframe tbody tr th {\n",
       "        vertical-align: top;\n",
       "    }\n",
       "\n",
       "    .dataframe thead th {\n",
       "        text-align: right;\n",
       "    }\n",
       "</style>\n",
       "<table border=\"1\" class=\"dataframe\">\n",
       "  <thead>\n",
       "    <tr style=\"text-align: right;\">\n",
       "      <th></th>\n",
       "      <th>comment_text</th>\n",
       "      <th>toxic</th>\n",
       "      <th>severe_toxic</th>\n",
       "      <th>obscene</th>\n",
       "      <th>threat</th>\n",
       "      <th>insult</th>\n",
       "      <th>identity_hate</th>\n",
       "    </tr>\n",
       "    <tr>\n",
       "      <th>id</th>\n",
       "      <th></th>\n",
       "      <th></th>\n",
       "      <th></th>\n",
       "      <th></th>\n",
       "      <th></th>\n",
       "      <th></th>\n",
       "      <th></th>\n",
       "    </tr>\n",
       "  </thead>\n",
       "  <tbody>\n",
       "    <tr>\n",
       "      <th>a818c1bb0a2ecab6</th>\n",
       "      <td>\"\\n\\n haiti \\nhey, can you explain what the wi...</td>\n",
       "      <td>0</td>\n",
       "      <td>0</td>\n",
       "      <td>0</td>\n",
       "      <td>0</td>\n",
       "      <td>0</td>\n",
       "      <td>0</td>\n",
       "    </tr>\n",
       "    <tr>\n",
       "      <th>92647af04527a57d</th>\n",
       "      <td>I completely agree. Let's see if I can make it...</td>\n",
       "      <td>0</td>\n",
       "      <td>0</td>\n",
       "      <td>0</td>\n",
       "      <td>0</td>\n",
       "      <td>0</td>\n",
       "      <td>0</td>\n",
       "    </tr>\n",
       "    <tr>\n",
       "      <th>7d6cc99efbc1c92c</th>\n",
       "      <td>Dr Dan has IMO good idea on this conflict. I t...</td>\n",
       "      <td>0</td>\n",
       "      <td>0</td>\n",
       "      <td>0</td>\n",
       "      <td>0</td>\n",
       "      <td>0</td>\n",
       "      <td>0</td>\n",
       "    </tr>\n",
       "    <tr>\n",
       "      <th>203ce75ab36c8b2b</th>\n",
       "      <td>Hey Burgas00, why did you make that personal a...</td>\n",
       "      <td>0</td>\n",
       "      <td>0</td>\n",
       "      <td>0</td>\n",
       "      <td>0</td>\n",
       "      <td>0</td>\n",
       "      <td>0</td>\n",
       "    </tr>\n",
       "    <tr>\n",
       "      <th>e1eb4f245dfacc5c</th>\n",
       "      <td>Tamerlan Tsarnaev cause of death\\nMost news me...</td>\n",
       "      <td>0</td>\n",
       "      <td>0</td>\n",
       "      <td>0</td>\n",
       "      <td>0</td>\n",
       "      <td>0</td>\n",
       "      <td>0</td>\n",
       "    </tr>\n",
       "  </tbody>\n",
       "</table>\n",
       "</div>"
      ],
      "text/plain": [
       "                                                       comment_text  toxic  \\\n",
       "id                                                                           \n",
       "a818c1bb0a2ecab6  \"\\n\\n haiti \\nhey, can you explain what the wi...      0   \n",
       "92647af04527a57d  I completely agree. Let's see if I can make it...      0   \n",
       "7d6cc99efbc1c92c  Dr Dan has IMO good idea on this conflict. I t...      0   \n",
       "203ce75ab36c8b2b  Hey Burgas00, why did you make that personal a...      0   \n",
       "e1eb4f245dfacc5c  Tamerlan Tsarnaev cause of death\\nMost news me...      0   \n",
       "\n",
       "                  severe_toxic  obscene  threat  insult  identity_hate  \n",
       "id                                                                      \n",
       "a818c1bb0a2ecab6             0        0       0       0              0  \n",
       "92647af04527a57d             0        0       0       0              0  \n",
       "7d6cc99efbc1c92c             0        0       0       0              0  \n",
       "203ce75ab36c8b2b             0        0       0       0              0  \n",
       "e1eb4f245dfacc5c             0        0       0       0              0  "
      ]
     },
     "execution_count": 7,
     "metadata": {},
     "output_type": "execute_result"
    }
   ],
   "source": [
    "train.head()"
   ]
  },
  {
   "cell_type": "code",
   "execution_count": 8,
   "metadata": {
    "colab": {
     "base_uri": "https://localhost:8080/",
     "height": 238
    },
    "id": "QWX6qJg-dRcR",
    "outputId": "d95dcd26-6454-4f78-88f6-774537ddaeb6"
   },
   "outputs": [
    {
     "data": {
      "text/html": [
       "<div>\n",
       "<style scoped>\n",
       "    .dataframe tbody tr th:only-of-type {\n",
       "        vertical-align: middle;\n",
       "    }\n",
       "\n",
       "    .dataframe tbody tr th {\n",
       "        vertical-align: top;\n",
       "    }\n",
       "\n",
       "    .dataframe thead th {\n",
       "        text-align: right;\n",
       "    }\n",
       "</style>\n",
       "<table border=\"1\" class=\"dataframe\">\n",
       "  <thead>\n",
       "    <tr style=\"text-align: right;\">\n",
       "      <th></th>\n",
       "      <th>comment_text</th>\n",
       "      <th>toxic</th>\n",
       "      <th>severe_toxic</th>\n",
       "      <th>obscene</th>\n",
       "      <th>threat</th>\n",
       "      <th>insult</th>\n",
       "      <th>identity_hate</th>\n",
       "    </tr>\n",
       "    <tr>\n",
       "      <th>id</th>\n",
       "      <th></th>\n",
       "      <th></th>\n",
       "      <th></th>\n",
       "      <th></th>\n",
       "      <th></th>\n",
       "      <th></th>\n",
       "      <th></th>\n",
       "    </tr>\n",
       "  </thead>\n",
       "  <tbody>\n",
       "    <tr>\n",
       "      <th>a818c1bb0a2ecab6</th>\n",
       "      <td>\"\\n\\n haiti \\nhey, can you explain what the wi...</td>\n",
       "      <td>0</td>\n",
       "      <td>0</td>\n",
       "      <td>0</td>\n",
       "      <td>0</td>\n",
       "      <td>0</td>\n",
       "      <td>0</td>\n",
       "    </tr>\n",
       "    <tr>\n",
       "      <th>92647af04527a57d</th>\n",
       "      <td>I completely agree. Let's see if I can make it...</td>\n",
       "      <td>0</td>\n",
       "      <td>0</td>\n",
       "      <td>0</td>\n",
       "      <td>0</td>\n",
       "      <td>0</td>\n",
       "      <td>0</td>\n",
       "    </tr>\n",
       "    <tr>\n",
       "      <th>7d6cc99efbc1c92c</th>\n",
       "      <td>Dr Dan has IMO good idea on this conflict. I t...</td>\n",
       "      <td>0</td>\n",
       "      <td>0</td>\n",
       "      <td>0</td>\n",
       "      <td>0</td>\n",
       "      <td>0</td>\n",
       "      <td>0</td>\n",
       "    </tr>\n",
       "    <tr>\n",
       "      <th>203ce75ab36c8b2b</th>\n",
       "      <td>Hey Burgas00, why did you make that personal a...</td>\n",
       "      <td>0</td>\n",
       "      <td>0</td>\n",
       "      <td>0</td>\n",
       "      <td>0</td>\n",
       "      <td>0</td>\n",
       "      <td>0</td>\n",
       "    </tr>\n",
       "    <tr>\n",
       "      <th>e1eb4f245dfacc5c</th>\n",
       "      <td>Tamerlan Tsarnaev cause of death\\nMost news me...</td>\n",
       "      <td>0</td>\n",
       "      <td>0</td>\n",
       "      <td>0</td>\n",
       "      <td>0</td>\n",
       "      <td>0</td>\n",
       "      <td>0</td>\n",
       "    </tr>\n",
       "  </tbody>\n",
       "</table>\n",
       "</div>"
      ],
      "text/plain": [
       "                                                       comment_text  toxic  \\\n",
       "id                                                                           \n",
       "a818c1bb0a2ecab6  \"\\n\\n haiti \\nhey, can you explain what the wi...      0   \n",
       "92647af04527a57d  I completely agree. Let's see if I can make it...      0   \n",
       "7d6cc99efbc1c92c  Dr Dan has IMO good idea on this conflict. I t...      0   \n",
       "203ce75ab36c8b2b  Hey Burgas00, why did you make that personal a...      0   \n",
       "e1eb4f245dfacc5c  Tamerlan Tsarnaev cause of death\\nMost news me...      0   \n",
       "\n",
       "                  severe_toxic  obscene  threat  insult  identity_hate  \n",
       "id                                                                      \n",
       "a818c1bb0a2ecab6             0        0       0       0              0  \n",
       "92647af04527a57d             0        0       0       0              0  \n",
       "7d6cc99efbc1c92c             0        0       0       0              0  \n",
       "203ce75ab36c8b2b             0        0       0       0              0  \n",
       "e1eb4f245dfacc5c             0        0       0       0              0  "
      ]
     },
     "execution_count": 8,
     "metadata": {},
     "output_type": "execute_result"
    }
   ],
   "source": [
    "test.head()"
   ]
  },
  {
   "cell_type": "code",
   "execution_count": 9,
   "metadata": {
    "colab": {
     "base_uri": "https://localhost:8080/",
     "height": 34
    },
    "id": "zz9OzE2TmSN1",
    "outputId": "d02ce230-08a6-4592-c48c-9781de701cf4"
   },
   "outputs": [
    {
     "data": {
      "text/plain": [
       "(1116, 7)"
      ]
     },
     "execution_count": 9,
     "metadata": {},
     "output_type": "execute_result"
    }
   ],
   "source": [
    "train.shape"
   ]
  },
  {
   "cell_type": "code",
   "execution_count": 10,
   "metadata": {
    "colab": {
     "base_uri": "https://localhost:8080/",
     "height": 34
    },
    "id": "oW3dJFOTMkq1",
    "outputId": "39b63161-cee2-4201-f6e2-dd2477173df6"
   },
   "outputs": [
    {
     "data": {
      "text/plain": [
       "(1116, 7)"
      ]
     },
     "execution_count": 10,
     "metadata": {},
     "output_type": "execute_result"
    }
   ],
   "source": [
    "test.shape"
   ]
  },
  {
   "cell_type": "code",
   "execution_count": 11,
   "metadata": {
    "colab": {
     "base_uri": "https://localhost:8080/",
     "height": 642
    },
    "id": "C6Tjgk9JMp3r",
    "outputId": "732d12ab-cdf7-414f-a169-be86bf7073ef"
   },
   "outputs": [
    {
     "name": "stderr",
     "output_type": "stream",
     "text": [
      "<ipython-input-11-dcbaddc9ff59>:2: UserWarning: To output multiple subplots, the figure containing the passed axes is being cleared\n",
      "  train[[\"toxic\", \"severe_toxic\", \"obscene\", \"threat\", \"insult\", \"identity_hate\"]].hist(ax=ax);\n"
     ]
    },
    {
     "data": {
      "image/png": "[encoded data removed]",
      "text/plain": [
       "<Figure size 1440x720 with 6 Axes>"
      ]
     },
     "metadata": {
      "needs_background": "light"
     },
     "output_type": "display_data"
    }
   ],
   "source": [
    "fig, ax = plt.subplots(figsize=(20, 10));\n",
    "train[[\"toxic\", \"severe_toxic\", \"obscene\", \"threat\", \"insult\", \"identity_hate\"]].hist(ax=ax);"
   ]
  },
  {
   "cell_type": "code",
   "execution_count": 12,
   "metadata": {
    "colab": {
     "base_uri": "https://localhost:8080/",
     "height": 156
    },
    "id": "CW7km8DaMrpy",
    "outputId": "68bc6f00-0da0-4ccf-ab72-ea9d940f4963"
   },
   "outputs": [
    {
     "data": {
      "text/plain": [
       "comment_text     0.0\n",
       "toxic            0.0\n",
       "severe_toxic     0.0\n",
       "obscene          0.0\n",
       "threat           0.0\n",
       "insult           0.0\n",
       "identity_hate    0.0\n",
       "dtype: float64"
      ]
     },
     "execution_count": 12,
     "metadata": {},
     "output_type": "execute_result"
    }
   ],
   "source": [
    "train.isnull().mean()"
   ]
  },
  {
   "cell_type": "code",
   "execution_count": 13,
   "metadata": {
    "colab": {
     "base_uri": "https://localhost:8080/",
     "height": 52
    },
    "id": "wazzbtL4MsQJ",
    "outputId": "dc44c6c7-d76a-4de7-8461-075d97f7730d"
   },
   "outputs": [
    {
     "data": {
      "text/plain": [
       "comment_text     0.0\n",
       "toxic            0.0\n",
       "severe_toxic     0.0\n",
       "obscene          0.0\n",
       "threat           0.0\n",
       "insult           0.0\n",
       "identity_hate    0.0\n",
       "dtype: float64"
      ]
     },
     "execution_count": 13,
     "metadata": {},
     "output_type": "execute_result"
    }
   ],
   "source": [
    "test.isnull().mean()"
   ]
  },
  {
   "cell_type": "code",
   "execution_count": 14,
   "metadata": {
    "id": "-ZEGGs69tD-3"
   },
   "outputs": [],
   "source": [
    "# get small sample of train to try\n",
    "#train = train.sample(n=100)"
   ]
  },
  {
   "cell_type": "markdown",
   "metadata": {
    "id": "MN8bQOt2mVc5"
   },
   "source": [
    "## Preprocess Data"
   ]
  },
  {
   "cell_type": "code",
   "execution_count": 15,
   "metadata": {
    "id": "Cz44ag9VMutg"
   },
   "outputs": [],
   "source": [
    "def plot_sentence_embeddings_length(text_list, tokenizer):\n",
    "    tokenized_texts = list(map(lambda t: tokenizer.tokenize(t), text_list))\n",
    "    tokenized_texts_len = list(map(lambda t: len(t), tokenized_texts))\n",
    "    fig, ax = plt.subplots(figsize=(8, 5));\n",
    "    ax.hist(tokenized_texts_len, bins=40);\n",
    "    ax.set_xlabel(\"Length of Comment Embeddings\");\n",
    "    ax.set_ylabel(\"Number of Comments\");\n",
    "    return"
   ]
  },
  {
   "cell_type": "code",
   "execution_count": 16,
   "metadata": {
    "id": "PTOd-qKQMyFO"
   },
   "outputs": [],
   "source": [
    "tokenizer = XLNetTokenizer.from_pretrained('xlnet-base-cased', do_lower_case=True)"
   ]
  },
  {
   "cell_type": "code",
   "execution_count": 17,
   "metadata": {
    "id": "D3Xq-qP54SiF"
   },
   "outputs": [],
   "source": [
    "train_text_list = train[\"comment_text\"].values\n",
    "test_text_list = test[\"comment_text\"].values"
   ]
  },
  {
   "cell_type": "code",
   "execution_count": 18,
   "metadata": {
    "colab": {
     "base_uri": "https://localhost:8080/",
     "height": 334
    },
    "id": "a0WBOEzcM0iR",
    "outputId": "d30ac1b1-c827-4049-93e3-dccf8b1c8260"
   },
   "outputs": [
    {
     "data": {
      "image/png": "[encoded data removed]",
      "text/plain": [
       "<Figure size 576x360 with 1 Axes>"
      ]
     },
     "metadata": {
      "needs_background": "light"
     },
     "output_type": "display_data"
    }
   ],
   "source": [
    "plot_sentence_embeddings_length(train_text_list, tokenizer)"
   ]
  },
  {
   "cell_type": "code",
   "execution_count": 19,
   "metadata": {
    "colab": {
     "base_uri": "https://localhost:8080/",
     "height": 334
    },
    "id": "mYR3yDcpM2V7",
    "outputId": "cbf9f372-fa3e-49f3-c84f-aeb63d129ecf"
   },
   "outputs": [
    {
     "data": {
      "image/png": "[encoded data removed]",
      "text/plain": [
       "<Figure size 576x360 with 1 Axes>"
      ]
     },
     "metadata": {
      "needs_background": "light"
     },
     "output_type": "display_data"
    }
   ],
   "source": [
    "plot_sentence_embeddings_length(test_text_list, tokenizer)"
   ]
  },
  {
   "cell_type": "code",
   "execution_count": 20,
   "metadata": {
    "id": "ocveMTIfM5cP"
   },
   "outputs": [],
   "source": [
    "def tokenize_inputs(text_list, tokenizer, num_embeddings=512):\n",
    "    \"\"\"\n",
    "    Tokenizes the input text input into ids. Appends the appropriate special\n",
    "    characters to the end of the text to denote end of sentence. Truncate or pad\n",
    "    the appropriate sequence length.\n",
    "    \"\"\"\n",
    "    # tokenize the text, then truncate sequence to the desired length minus 2 for\n",
    "    # the 2 special characters\n",
    "    tokenized_texts = list(map(lambda t: tokenizer.tokenize(t)[:num_embeddings-2], text_list))\n",
    "    # convert tokenized text into numeric ids for the appropriate LM\n",
    "    input_ids = [tokenizer.convert_tokens_to_ids(x) for x in tokenized_texts]\n",
    "    # append special token \"<s>\" and </s> to end of sentence\n",
    "    input_ids = [tokenizer.build_inputs_with_special_tokens(x) for x in input_ids]\n",
    "    # pad sequences\n",
    "    input_ids = pad_sequences(input_ids, maxlen=num_embeddings, dtype=\"long\", truncating=\"post\", padding=\"post\")\n",
    "    return input_ids\n",
    "\n",
    "def create_attn_masks(input_ids):\n",
    "    \"\"\"\n",
    "    Create attention masks to tell model whether attention should be applied to\n",
    "    the input id tokens. Do not want to perform attention on padding tokens.\n",
    "    \"\"\"\n",
    "    # Create attention masks\n",
    "    attention_masks = []\n",
    "\n",
    "    # Create a mask of 1s for each token followed by 0s for padding\n",
    "    for seq in input_ids:\n",
    "        seq_mask = [float(i>0) for i in seq]\n",
    "        attention_masks.append(seq_mask)\n",
    "    return attention_masks"
   ]
  },
  {
   "cell_type": "code",
   "execution_count": 21,
   "metadata": {
    "colab": {
     "base_uri": "https://localhost:8080/",
     "height": 139
    },
    "id": "p2ZVLj_OM8sV",
    "outputId": "fee0fd4d-7bc2-4bec-ba91-2a1837882482"
   },
   "outputs": [
    {
     "data": {
      "text/plain": [
       "array([[   17,    12, 10118, ...,     0,     0,     0],\n",
       "       [   17,   150,  1755, ...,     0,     0,     0],\n",
       "       [   17,  7841,    17, ...,     0,     0,     0],\n",
       "       ...,\n",
       "       [   17,   150,   282, ...,     0,     0,     0],\n",
       "       [   17,    12,    17, ...,     0,     0,     0],\n",
       "       [   44,    41,  1411, ...,     0,     0,     0]])"
      ]
     },
     "execution_count": 21,
     "metadata": {},
     "output_type": "execute_result"
    }
   ],
   "source": [
    "# create input id tokens\n",
    "train_input_ids = tokenize_inputs(train_text_list, tokenizer, num_embeddings=250)\n",
    "train_input_ids"
   ]
  },
  {
   "cell_type": "code",
   "execution_count": 22,
   "metadata": {
    "colab": {
     "base_uri": "https://localhost:8080/",
     "height": 139
    },
    "id": "VrzAuQ_6M-ER",
    "outputId": "46408601-7162-45e1-f88c-56cc159cdb3b"
   },
   "outputs": [
    {
     "data": {
      "text/plain": [
       "array([[   17,    12, 10118, ...,     0,     0,     0],\n",
       "       [   17,   150,  1755, ...,     0,     0,     0],\n",
       "       [   17,  7841,    17, ...,     0,     0,     0],\n",
       "       ...,\n",
       "       [   17,   150,   282, ...,     0,     0,     0],\n",
       "       [   17,    12,    17, ...,     0,     0,     0],\n",
       "       [   44,    41,  1411, ...,     0,     0,     0]])"
      ]
     },
     "execution_count": 22,
     "metadata": {},
     "output_type": "execute_result"
    }
   ],
   "source": [
    "# create input id tokens\n",
    "test_input_ids = tokenize_inputs(test_text_list, tokenizer, num_embeddings=250)\n",
    "test_input_ids"
   ]
  },
  {
   "cell_type": "code",
   "execution_count": 23,
   "metadata": {
    "colab": {
     "base_uri": "https://localhost:8080/",
     "height": 1000
    },
    "id": "TgGLmaKKM_xB",
    "outputId": "a865d2d4-d61e-467e-c0b5-4699366197d8"
   },
   "outputs": [],
   "source": [
    "# create attention masks\n",
    "train_attention_masks = create_attn_masks(train_input_ids)\n",
    "# train_attention_masks"
   ]
  },
  {
   "cell_type": "code",
   "execution_count": 24,
   "metadata": {
    "colab": {
     "base_uri": "https://localhost:8080/",
     "height": 1000
    },
    "id": "jdX4QlnZTeaN",
    "outputId": "3fa08ea8-e6c0-416e-a8b3-cf5e002206e9"
   },
   "outputs": [],
   "source": [
    "# create attention masks\n",
    "test_attention_masks = create_attn_masks(test_input_ids)\n",
    "# test_attention_masks"
   ]
  },
  {
   "cell_type": "code",
   "execution_count": 25,
   "metadata": {
    "id": "OQPuY4mONCSu"
   },
   "outputs": [],
   "source": [
    "# add input ids and attention masks to the dataframe\n",
    "train[\"features\"] = train_input_ids.tolist()\n",
    "train[\"masks\"] = train_attention_masks\n",
    "\n",
    "test[\"features\"] = test_input_ids.tolist()\n",
    "test[\"masks\"] = test_attention_masks"
   ]
  },
  {
   "cell_type": "code",
   "execution_count": 26,
   "metadata": {
    "colab": {
     "base_uri": "https://localhost:8080/",
     "height": 238
    },
    "id": "KjzFlRljNEkB",
    "outputId": "b9ff3c38-0e6c-47d1-9c94-e821a6ce3be4"
   },
   "outputs": [
    {
     "data": {
      "text/html": [
       "<div>\n",
       "<style scoped>\n",
       "    .dataframe tbody tr th:only-of-type {\n",
       "        vertical-align: middle;\n",
       "    }\n",
       "\n",
       "    .dataframe tbody tr th {\n",
       "        vertical-align: top;\n",
       "    }\n",
       "\n",
       "    .dataframe thead th {\n",
       "        text-align: right;\n",
       "    }\n",
       "</style>\n",
       "<table border=\"1\" class=\"dataframe\">\n",
       "  <thead>\n",
       "    <tr style=\"text-align: right;\">\n",
       "      <th></th>\n",
       "      <th>comment_text</th>\n",
       "      <th>toxic</th>\n",
       "      <th>severe_toxic</th>\n",
       "      <th>obscene</th>\n",
       "      <th>threat</th>\n",
       "      <th>insult</th>\n",
       "      <th>identity_hate</th>\n",
       "      <th>features</th>\n",
       "      <th>masks</th>\n",
       "    </tr>\n",
       "    <tr>\n",
       "      <th>id</th>\n",
       "      <th></th>\n",
       "      <th></th>\n",
       "      <th></th>\n",
       "      <th></th>\n",
       "      <th></th>\n",
       "      <th></th>\n",
       "      <th></th>\n",
       "      <th></th>\n",
       "      <th></th>\n",
       "    </tr>\n",
       "  </thead>\n",
       "  <tbody>\n",
       "    <tr>\n",
       "      <th>a818c1bb0a2ecab6</th>\n",
       "      <td>\"\\n\\n haiti \\nhey, can you explain what the wi...</td>\n",
       "      <td>0</td>\n",
       "      <td>0</td>\n",
       "      <td>0</td>\n",
       "      <td>0</td>\n",
       "      <td>0</td>\n",
       "      <td>0</td>\n",
       "      <td>[17, 12, 10118, 6225, 43, 117, 19, 64, 44, 308...</td>\n",
       "      <td>[1.0, 1.0, 1.0, 1.0, 1.0, 1.0, 1.0, 1.0, 1.0, ...</td>\n",
       "    </tr>\n",
       "    <tr>\n",
       "      <th>92647af04527a57d</th>\n",
       "      <td>I completely agree. Let's see if I can make it...</td>\n",
       "      <td>0</td>\n",
       "      <td>0</td>\n",
       "      <td>0</td>\n",
       "      <td>0</td>\n",
       "      <td>0</td>\n",
       "      <td>0</td>\n",
       "      <td>[17, 150, 1755, 2125, 9, 618, 26, 23, 197, 108...</td>\n",
       "      <td>[1.0, 1.0, 1.0, 1.0, 1.0, 1.0, 1.0, 1.0, 1.0, ...</td>\n",
       "    </tr>\n",
       "    <tr>\n",
       "      <th>7d6cc99efbc1c92c</th>\n",
       "      <td>Dr Dan has IMO good idea on this conflict. I t...</td>\n",
       "      <td>0</td>\n",
       "      <td>0</td>\n",
       "      <td>0</td>\n",
       "      <td>0</td>\n",
       "      <td>0</td>\n",
       "      <td>0</td>\n",
       "      <td>[17, 7841, 17, 4731, 51, 17, 14597, 195, 875, ...</td>\n",
       "      <td>[1.0, 1.0, 1.0, 1.0, 1.0, 1.0, 1.0, 1.0, 1.0, ...</td>\n",
       "    </tr>\n",
       "    <tr>\n",
       "      <th>203ce75ab36c8b2b</th>\n",
       "      <td>Hey Burgas00, why did you make that personal a...</td>\n",
       "      <td>0</td>\n",
       "      <td>0</td>\n",
       "      <td>0</td>\n",
       "      <td>0</td>\n",
       "      <td>0</td>\n",
       "      <td>0</td>\n",
       "      <td>[43, 117, 17, 5036, 712, 1428, 19, 611, 190, 4...</td>\n",
       "      <td>[1.0, 1.0, 1.0, 1.0, 1.0, 1.0, 1.0, 1.0, 1.0, ...</td>\n",
       "    </tr>\n",
       "    <tr>\n",
       "      <th>e1eb4f245dfacc5c</th>\n",
       "      <td>Tamerlan Tsarnaev cause of death\\nMost news me...</td>\n",
       "      <td>0</td>\n",
       "      <td>0</td>\n",
       "      <td>0</td>\n",
       "      <td>0</td>\n",
       "      <td>0</td>\n",
       "      <td>0</td>\n",
       "      <td>[17, 7575, 118, 1941, 17, 46, 7970, 597, 3799,...</td>\n",
       "      <td>[1.0, 1.0, 1.0, 1.0, 1.0, 1.0, 1.0, 1.0, 1.0, ...</td>\n",
       "    </tr>\n",
       "  </tbody>\n",
       "</table>\n",
       "</div>"
      ],
      "text/plain": [
       "                                                       comment_text  toxic  \\\n",
       "id                                                                           \n",
       "a818c1bb0a2ecab6  \"\\n\\n haiti \\nhey, can you explain what the wi...      0   \n",
       "92647af04527a57d  I completely agree. Let's see if I can make it...      0   \n",
       "7d6cc99efbc1c92c  Dr Dan has IMO good idea on this conflict. I t...      0   \n",
       "203ce75ab36c8b2b  Hey Burgas00, why did you make that personal a...      0   \n",
       "e1eb4f245dfacc5c  Tamerlan Tsarnaev cause of death\\nMost news me...      0   \n",
       "\n",
       "                  severe_toxic  obscene  threat  insult  identity_hate  \\\n",
       "id                                                                       \n",
       "a818c1bb0a2ecab6             0        0       0       0              0   \n",
       "92647af04527a57d             0        0       0       0              0   \n",
       "7d6cc99efbc1c92c             0        0       0       0              0   \n",
       "203ce75ab36c8b2b             0        0       0       0              0   \n",
       "e1eb4f245dfacc5c             0        0       0       0              0   \n",
       "\n",
       "                                                           features  \\\n",
       "id                                                                    \n",
       "a818c1bb0a2ecab6  [17, 12, 10118, 6225, 43, 117, 19, 64, 44, 308...   \n",
       "92647af04527a57d  [17, 150, 1755, 2125, 9, 618, 26, 23, 197, 108...   \n",
       "7d6cc99efbc1c92c  [17, 7841, 17, 4731, 51, 17, 14597, 195, 875, ...   \n",
       "203ce75ab36c8b2b  [43, 117, 17, 5036, 712, 1428, 19, 611, 190, 4...   \n",
       "e1eb4f245dfacc5c  [17, 7575, 118, 1941, 17, 46, 7970, 597, 3799,...   \n",
       "\n",
       "                                                              masks  \n",
       "id                                                                   \n",
       "a818c1bb0a2ecab6  [1.0, 1.0, 1.0, 1.0, 1.0, 1.0, 1.0, 1.0, 1.0, ...  \n",
       "92647af04527a57d  [1.0, 1.0, 1.0, 1.0, 1.0, 1.0, 1.0, 1.0, 1.0, ...  \n",
       "7d6cc99efbc1c92c  [1.0, 1.0, 1.0, 1.0, 1.0, 1.0, 1.0, 1.0, 1.0, ...  \n",
       "203ce75ab36c8b2b  [1.0, 1.0, 1.0, 1.0, 1.0, 1.0, 1.0, 1.0, 1.0, ...  \n",
       "e1eb4f245dfacc5c  [1.0, 1.0, 1.0, 1.0, 1.0, 1.0, 1.0, 1.0, 1.0, ...  "
      ]
     },
     "execution_count": 26,
     "metadata": {},
     "output_type": "execute_result"
    }
   ],
   "source": [
    "train.head()"
   ]
  },
  {
   "cell_type": "code",
   "execution_count": 27,
   "metadata": {
    "colab": {
     "base_uri": "https://localhost:8080/",
     "height": 238
    },
    "id": "TDcrK191NG_K",
    "outputId": "efa21b90-32ae-4d9c-e70d-70c9f1029917"
   },
   "outputs": [
    {
     "data": {
      "text/html": [
       "<div>\n",
       "<style scoped>\n",
       "    .dataframe tbody tr th:only-of-type {\n",
       "        vertical-align: middle;\n",
       "    }\n",
       "\n",
       "    .dataframe tbody tr th {\n",
       "        vertical-align: top;\n",
       "    }\n",
       "\n",
       "    .dataframe thead th {\n",
       "        text-align: right;\n",
       "    }\n",
       "</style>\n",
       "<table border=\"1\" class=\"dataframe\">\n",
       "  <thead>\n",
       "    <tr style=\"text-align: right;\">\n",
       "      <th></th>\n",
       "      <th>comment_text</th>\n",
       "      <th>toxic</th>\n",
       "      <th>severe_toxic</th>\n",
       "      <th>obscene</th>\n",
       "      <th>threat</th>\n",
       "      <th>insult</th>\n",
       "      <th>identity_hate</th>\n",
       "      <th>features</th>\n",
       "      <th>masks</th>\n",
       "    </tr>\n",
       "    <tr>\n",
       "      <th>id</th>\n",
       "      <th></th>\n",
       "      <th></th>\n",
       "      <th></th>\n",
       "      <th></th>\n",
       "      <th></th>\n",
       "      <th></th>\n",
       "      <th></th>\n",
       "      <th></th>\n",
       "      <th></th>\n",
       "    </tr>\n",
       "  </thead>\n",
       "  <tbody>\n",
       "    <tr>\n",
       "      <th>a818c1bb0a2ecab6</th>\n",
       "      <td>\"\\n\\n haiti \\nhey, can you explain what the wi...</td>\n",
       "      <td>0</td>\n",
       "      <td>0</td>\n",
       "      <td>0</td>\n",
       "      <td>0</td>\n",
       "      <td>0</td>\n",
       "      <td>0</td>\n",
       "      <td>[17, 12, 10118, 6225, 43, 117, 19, 64, 44, 308...</td>\n",
       "      <td>[1.0, 1.0, 1.0, 1.0, 1.0, 1.0, 1.0, 1.0, 1.0, ...</td>\n",
       "    </tr>\n",
       "    <tr>\n",
       "      <th>92647af04527a57d</th>\n",
       "      <td>I completely agree. Let's see if I can make it...</td>\n",
       "      <td>0</td>\n",
       "      <td>0</td>\n",
       "      <td>0</td>\n",
       "      <td>0</td>\n",
       "      <td>0</td>\n",
       "      <td>0</td>\n",
       "      <td>[17, 150, 1755, 2125, 9, 618, 26, 23, 197, 108...</td>\n",
       "      <td>[1.0, 1.0, 1.0, 1.0, 1.0, 1.0, 1.0, 1.0, 1.0, ...</td>\n",
       "    </tr>\n",
       "    <tr>\n",
       "      <th>7d6cc99efbc1c92c</th>\n",
       "      <td>Dr Dan has IMO good idea on this conflict. I t...</td>\n",
       "      <td>0</td>\n",
       "      <td>0</td>\n",
       "      <td>0</td>\n",
       "      <td>0</td>\n",
       "      <td>0</td>\n",
       "      <td>0</td>\n",
       "      <td>[17, 7841, 17, 4731, 51, 17, 14597, 195, 875, ...</td>\n",
       "      <td>[1.0, 1.0, 1.0, 1.0, 1.0, 1.0, 1.0, 1.0, 1.0, ...</td>\n",
       "    </tr>\n",
       "    <tr>\n",
       "      <th>203ce75ab36c8b2b</th>\n",
       "      <td>Hey Burgas00, why did you make that personal a...</td>\n",
       "      <td>0</td>\n",
       "      <td>0</td>\n",
       "      <td>0</td>\n",
       "      <td>0</td>\n",
       "      <td>0</td>\n",
       "      <td>0</td>\n",
       "      <td>[43, 117, 17, 5036, 712, 1428, 19, 611, 190, 4...</td>\n",
       "      <td>[1.0, 1.0, 1.0, 1.0, 1.0, 1.0, 1.0, 1.0, 1.0, ...</td>\n",
       "    </tr>\n",
       "    <tr>\n",
       "      <th>e1eb4f245dfacc5c</th>\n",
       "      <td>Tamerlan Tsarnaev cause of death\\nMost news me...</td>\n",
       "      <td>0</td>\n",
       "      <td>0</td>\n",
       "      <td>0</td>\n",
       "      <td>0</td>\n",
       "      <td>0</td>\n",
       "      <td>0</td>\n",
       "      <td>[17, 7575, 118, 1941, 17, 46, 7970, 597, 3799,...</td>\n",
       "      <td>[1.0, 1.0, 1.0, 1.0, 1.0, 1.0, 1.0, 1.0, 1.0, ...</td>\n",
       "    </tr>\n",
       "  </tbody>\n",
       "</table>\n",
       "</div>"
      ],
      "text/plain": [
       "                                                       comment_text  toxic  \\\n",
       "id                                                                           \n",
       "a818c1bb0a2ecab6  \"\\n\\n haiti \\nhey, can you explain what the wi...      0   \n",
       "92647af04527a57d  I completely agree. Let's see if I can make it...      0   \n",
       "7d6cc99efbc1c92c  Dr Dan has IMO good idea on this conflict. I t...      0   \n",
       "203ce75ab36c8b2b  Hey Burgas00, why did you make that personal a...      0   \n",
       "e1eb4f245dfacc5c  Tamerlan Tsarnaev cause of death\\nMost news me...      0   \n",
       "\n",
       "                  severe_toxic  obscene  threat  insult  identity_hate  \\\n",
       "id                                                                       \n",
       "a818c1bb0a2ecab6             0        0       0       0              0   \n",
       "92647af04527a57d             0        0       0       0              0   \n",
       "7d6cc99efbc1c92c             0        0       0       0              0   \n",
       "203ce75ab36c8b2b             0        0       0       0              0   \n",
       "e1eb4f245dfacc5c             0        0       0       0              0   \n",
       "\n",
       "                                                           features  \\\n",
       "id                                                                    \n",
       "a818c1bb0a2ecab6  [17, 12, 10118, 6225, 43, 117, 19, 64, 44, 308...   \n",
       "92647af04527a57d  [17, 150, 1755, 2125, 9, 618, 26, 23, 197, 108...   \n",
       "7d6cc99efbc1c92c  [17, 7841, 17, 4731, 51, 17, 14597, 195, 875, ...   \n",
       "203ce75ab36c8b2b  [43, 117, 17, 5036, 712, 1428, 19, 611, 190, 4...   \n",
       "e1eb4f245dfacc5c  [17, 7575, 118, 1941, 17, 46, 7970, 597, 3799,...   \n",
       "\n",
       "                                                              masks  \n",
       "id                                                                   \n",
       "a818c1bb0a2ecab6  [1.0, 1.0, 1.0, 1.0, 1.0, 1.0, 1.0, 1.0, 1.0, ...  \n",
       "92647af04527a57d  [1.0, 1.0, 1.0, 1.0, 1.0, 1.0, 1.0, 1.0, 1.0, ...  \n",
       "7d6cc99efbc1c92c  [1.0, 1.0, 1.0, 1.0, 1.0, 1.0, 1.0, 1.0, 1.0, ...  \n",
       "203ce75ab36c8b2b  [1.0, 1.0, 1.0, 1.0, 1.0, 1.0, 1.0, 1.0, 1.0, ...  \n",
       "e1eb4f245dfacc5c  [1.0, 1.0, 1.0, 1.0, 1.0, 1.0, 1.0, 1.0, 1.0, ...  "
      ]
     },
     "execution_count": 27,
     "metadata": {},
     "output_type": "execute_result"
    }
   ],
   "source": [
    "test.head()"
   ]
  },
  {
   "cell_type": "markdown",
   "metadata": {
    "id": "uRpKDj-WN2tN"
   },
   "source": [
    "## Train, Valid Split"
   ]
  },
  {
   "cell_type": "code",
   "execution_count": 28,
   "metadata": {
    "id": "a1SXXP4GN1m_"
   },
   "outputs": [],
   "source": [
    "# train valid split\n",
    "train, valid = train_test_split(train, test_size=0.2, random_state=42)"
   ]
  },
  {
   "cell_type": "code",
   "execution_count": 29,
   "metadata": {
    "id": "H2A1pqzcN_Gr"
   },
   "outputs": [],
   "source": [
    "X_train = train[\"features\"].values.tolist()\n",
    "X_valid = valid[\"features\"].values.tolist()\n",
    "\n",
    "train_masks = train[\"masks\"].values.tolist()\n",
    "valid_masks = valid[\"masks\"].values.tolist()\n",
    "\n",
    "label_cols = [\"toxic\", \"severe_toxic\", \"obscene\", \"threat\", \"insult\", \"identity_hate\"]\n",
    "Y_train = train[label_cols].values.tolist()\n",
    "Y_valid = valid[label_cols].values.tolist()"
   ]
  },
  {
   "cell_type": "markdown",
   "metadata": {
    "id": "GQUZkER-OCVE"
   },
   "source": [
    "## Create Dataloaders"
   ]
  },
  {
   "cell_type": "code",
   "execution_count": 30,
   "metadata": {
    "id": "jChp-AsjOBrv"
   },
   "outputs": [
    {
     "name": "stderr",
     "output_type": "stream",
     "text": [
      "<ipython-input-30-4f6268932cd1>:10: DeprecationWarning: an integer is required (got type float).  Implicit conversion to integers using __int__ is deprecated, and may be removed in a future version of Python.\n",
      "  train_masks = torch.tensor(train_masks, dtype=torch.long)\n",
      "<ipython-input-30-4f6268932cd1>:11: DeprecationWarning: an integer is required (got type float).  Implicit conversion to integers using __int__ is deprecated, and may be removed in a future version of Python.\n",
      "  valid_masks = torch.tensor(valid_masks, dtype=torch.long)\n"
     ]
    }
   ],
   "source": [
    "# Convert all of our input ids and attention masks into \n",
    "# torch tensors, the required datatype for our model\n",
    "\n",
    "X_train = torch.tensor(X_train)\n",
    "X_valid = torch.tensor(X_valid)\n",
    "\n",
    "Y_train = torch.tensor(Y_train, dtype=torch.float32)\n",
    "Y_valid = torch.tensor(Y_valid, dtype=torch.float32)\n",
    "\n",
    "train_masks = torch.tensor(train_masks, dtype=torch.long)\n",
    "valid_masks = torch.tensor(valid_masks, dtype=torch.long)"
   ]
  },
  {
   "cell_type": "code",
   "execution_count": 31,
   "metadata": {
    "id": "KMeaH6gbOHM1"
   },
   "outputs": [],
   "source": [
    "# Select a batch size for training\n",
    "batch_size = 4\n",
    "\n",
    "# Create an iterator of our data with torch DataLoader. This helps save on \n",
    "# memory during training because, unlike a for loop, \n",
    "# with an iterator the entire dataset does not need to be loaded into memory\n",
    "\n",
    "train_data = TensorDataset(X_train, train_masks, Y_train)\n",
    "train_sampler = RandomSampler(train_data)\n",
    "train_dataloader = DataLoader(train_data,\\\n",
    "                              sampler=train_sampler,\\\n",
    "                              batch_size=batch_size)\n",
    "\n",
    "validation_data = TensorDataset(X_valid, valid_masks, Y_valid)\n",
    "validation_sampler = SequentialSampler(validation_data)\n",
    "validation_dataloader = DataLoader(validation_data,\\\n",
    "                                   sampler=validation_sampler,\\\n",
    "                                   batch_size=batch_size)"
   ]
  },
  {
   "cell_type": "code",
   "execution_count": 32,
   "metadata": {
    "id": "XCE_3AnLOPpI"
   },
   "outputs": [],
   "source": [
    "def train(model, num_epochs,\\\n",
    "          optimizer,\\\n",
    "          train_dataloader, valid_dataloader,\\\n",
    "          model_save_path,\\\n",
    "          train_loss_set=[], valid_loss_set = [],\\\n",
    "          lowest_eval_loss=None, start_epoch=0,\\\n",
    "          device=\"cpu\"\n",
    "          ):\n",
    "  \"\"\"\n",
    "  Train the model and save the model with the lowest validation loss\n",
    "  \"\"\"\n",
    "\n",
    "  model.to(device)\n",
    "\n",
    "  # trange is a tqdm wrapper around the normal python range\n",
    "  for i in trange(num_epochs, desc=\"Epoch\"):\n",
    "    # if continue training from saved model\n",
    "    actual_epoch = start_epoch + i\n",
    "\n",
    "    # Training\n",
    "\n",
    "    # Set our model to training mode (as opposed to evaluation mode)\n",
    "    model.train()\n",
    "\n",
    "    # Tracking variables\n",
    "    tr_loss = 0\n",
    "    num_train_samples = 0\n",
    "\n",
    "    # Train the data for one epoch\n",
    "    for step, batch in enumerate(train_dataloader):\n",
    "      # Add batch to GPU\n",
    "      batch = tuple(t.to(device) for t in batch)\n",
    "      # Unpack the inputs from our dataloader\n",
    "      b_input_ids, b_input_mask, b_labels = batch\n",
    "      # Clear out the gradients (by default they accumulate)\n",
    "      optimizer.zero_grad()\n",
    "      # Forward pass\n",
    "      loss = model(b_input_ids, attention_mask=b_input_mask, labels=b_labels)\n",
    "      # store train loss\n",
    "      tr_loss += loss.item()\n",
    "      num_train_samples += b_labels.size(0)\n",
    "      # Backward pass\n",
    "      loss.backward()\n",
    "      # Update parameters and take a step using the computed gradient\n",
    "      optimizer.step()\n",
    "      #scheduler.step()\n",
    "\n",
    "    # Update tracking variables\n",
    "    epoch_train_loss = tr_loss/num_train_samples\n",
    "    train_loss_set.append(epoch_train_loss)\n",
    "\n",
    "    print(\"Train loss: {}\".format(epoch_train_loss))\n",
    "\n",
    "    # Validation\n",
    "\n",
    "    # Put model in evaluation mode to evaluate loss on the validation set\n",
    "    model.eval()\n",
    "\n",
    "    # Tracking variables \n",
    "    eval_loss = 0\n",
    "    num_eval_samples = 0\n",
    "\n",
    "    # Evaluate data for one epoch\n",
    "    for batch in valid_dataloader:\n",
    "      # Add batch to GPU\n",
    "      batch = tuple(t.to(device) for t in batch)\n",
    "      # Unpack the inputs from our dataloader\n",
    "      b_input_ids, b_input_mask, b_labels = batch\n",
    "      # Telling the model not to compute or store gradients,\n",
    "      # saving memory and speeding up validation\n",
    "      with torch.no_grad():\n",
    "        # Forward pass, calculate validation loss\n",
    "        loss = model(b_input_ids, attention_mask=b_input_mask, labels=b_labels)\n",
    "        # store valid loss\n",
    "        eval_loss += loss.item()\n",
    "        num_eval_samples += b_labels.size(0)\n",
    "\n",
    "    epoch_eval_loss = eval_loss/num_eval_samples\n",
    "    valid_loss_set.append(epoch_eval_loss)\n",
    "\n",
    "    print(\"Valid loss: {}\".format(epoch_eval_loss))\n",
    "\n",
    "    if lowest_eval_loss == None:\n",
    "      lowest_eval_loss = epoch_eval_loss\n",
    "      # save model\n",
    "      save_model(model, model_save_path, actual_epoch,\\\n",
    "                 lowest_eval_loss, train_loss_set, valid_loss_set)\n",
    "    else:\n",
    "      if epoch_eval_loss < lowest_eval_loss:\n",
    "        lowest_eval_loss = epoch_eval_loss\n",
    "        # save model\n",
    "        save_model(model, model_save_path, actual_epoch,\\\n",
    "                   lowest_eval_loss, train_loss_set, valid_loss_set)\n",
    "    print(\"\\n\")\n",
    "\n",
    "  return model, train_loss_set, valid_loss_set\n",
    "\n",
    "\n",
    "def save_model(model, save_path, epochs, lowest_eval_loss, train_loss_hist, valid_loss_hist):\n",
    "  \"\"\"\n",
    "  Save the model to the path directory provided\n",
    "  \"\"\"\n",
    "  model_to_save = model.module if hasattr(model, 'module') else model\n",
    "  checkpoint = {'epochs': epochs, \\\n",
    "                'lowest_eval_loss': lowest_eval_loss,\\\n",
    "                'state_dict': model_to_save.state_dict(),\\\n",
    "                'train_loss_hist': train_loss_hist,\\\n",
    "                'valid_loss_hist': valid_loss_hist\n",
    "               }\n",
    "  torch.save(checkpoint, save_path)\n",
    "  print(\"Saving model at epoch {} with validation loss of {}\".format(epochs,\\\n",
    "                                                                     lowest_eval_loss))\n",
    "  return\n",
    "  \n",
    "def load_model(save_path):\n",
    "  \"\"\"\n",
    "  Load the model from the path directory provided\n",
    "  \"\"\"\n",
    "  checkpoint = torch.load(save_path)\n",
    "  model_state_dict = checkpoint['state_dict']\n",
    "  model = XLNetForMultiLabelSequenceClassification(num_labels=model_state_dict[\"classifier.weight\"].size()[0])\n",
    "  model.load_state_dict(model_state_dict)\n",
    "\n",
    "  epochs = checkpoint[\"epochs\"]\n",
    "  lowest_eval_loss = checkpoint[\"lowest_eval_loss\"]\n",
    "  train_loss_hist = checkpoint[\"train_loss_hist\"]\n",
    "  valid_loss_hist = checkpoint[\"valid_loss_hist\"]\n",
    "  \n",
    "  return model, epochs, lowest_eval_loss, train_loss_hist, valid_loss_hist"
   ]
  },
  {
   "cell_type": "markdown",
   "metadata": {
    "id": "OoxSrbFDOUW0"
   },
   "source": [
    "## Train Model from Scratch"
   ]
  },
  {
   "cell_type": "code",
   "execution_count": 33,
   "metadata": {
    "id": "wGMnhaIuUbXx"
   },
   "outputs": [],
   "source": [
    "torch.cuda.empty_cache()"
   ]
  },
  {
   "cell_type": "code",
   "execution_count": 34,
   "metadata": {
    "id": "8VMI7VWpOKj0"
   },
   "outputs": [],
   "source": [
    "#config = XLNetConfig()\n",
    "        \n",
    "class XLNetForMultiLabelSequenceClassification(torch.nn.Module):\n",
    "  \n",
    "  def __init__(self, num_labels=2):\n",
    "    super(XLNetForMultiLabelSequenceClassification, self).__init__()\n",
    "    self.num_labels = num_labels\n",
    "    self.xlnet = XLNetModel.from_pretrained('xlnet-base-cased')\n",
    "    self.classifier = torch.nn.Linear(768, num_labels)\n",
    "\n",
    "    torch.nn.init.xavier_normal_(self.classifier.weight)\n",
    "\n",
    "  def forward(self, input_ids, token_type_ids=None,\\\n",
    "              attention_mask=None, labels=None):\n",
    "    # last hidden layer\n",
    "    last_hidden_state = self.xlnet(input_ids=input_ids,\\\n",
    "                                   attention_mask=attention_mask,\\\n",
    "                                   token_type_ids=token_type_ids)\n",
    "    # pool the outputs into a mean vector\n",
    "    mean_last_hidden_state = self.pool_hidden_state(last_hidden_state)\n",
    "    logits = self.classifier(mean_last_hidden_state)\n",
    "        \n",
    "    if labels is not None:\n",
    "      loss_fct = BCEWithLogitsLoss()\n",
    "      loss = loss_fct(logits.view(-1, self.num_labels),\\\n",
    "                      labels.view(-1, self.num_labels))\n",
    "      return loss\n",
    "    else:\n",
    "      return logits\n",
    "    \n",
    "  def freeze_xlnet_decoder(self):\n",
    "    \"\"\"\n",
    "    Freeze XLNet weight parameters. They will not be updated during training.\n",
    "    \"\"\"\n",
    "    for param in self.xlnet.parameters():\n",
    "      param.requires_grad = False\n",
    "    \n",
    "  def unfreeze_xlnet_decoder(self):\n",
    "    \"\"\"\n",
    "    Unfreeze XLNet weight parameters. They will be updated during training.\n",
    "    \"\"\"\n",
    "    for param in self.xlnet.parameters():\n",
    "      param.requires_grad = True\n",
    "    \n",
    "  def pool_hidden_state(self, last_hidden_state):\n",
    "    \"\"\"\n",
    "    Pool the output vectors into a single mean vector \n",
    "    \"\"\"\n",
    "    last_hidden_state = last_hidden_state[0]\n",
    "    mean_last_hidden_state = torch.mean(last_hidden_state, 1)\n",
    "    return mean_last_hidden_state\n",
    "    \n",
    "model = XLNetForMultiLabelSequenceClassification(num_labels=len(Y_train[0]))\n",
    "#model = torch.nn.DataParallel(model)\n",
    "#model.cuda()"
   ]
  },
  {
   "cell_type": "code",
   "execution_count": 35,
   "metadata": {
    "id": "6QuSJxanOMRy"
   },
   "outputs": [],
   "source": [
    "optimizer = AdamW(model.parameters(), lr=2e-5, weight_decay=0.01, correct_bias=False)\n",
    "#scheduler = WarmupLinearSchedule(optimizer, warmup_steps=num_warmup_steps, t_total=num_total_steps)  # PyTorch scheduler"
   ]
  },
  {
   "cell_type": "code",
   "execution_count": 36,
   "metadata": {
    "colab": {
     "base_uri": "https://localhost:8080/",
     "height": 34
    },
    "id": "pxCN5nLvOO2a",
    "outputId": "4937d68e-c611-4915-aba7-0b0f3f5e84dc"
   },
   "outputs": [
    {
     "name": "stderr",
     "output_type": "stream",
     "text": [
      "Epoch:   0%|          | 0/3 [00:00<?, ?it/s]"
     ]
    },
    {
     "name": "stdout",
     "output_type": "stream",
     "text": [
      "Train loss: 0.042416871926536356\n",
      "Valid loss: 0.01868863971893526\n"
     ]
    },
    {
     "name": "stderr",
     "output_type": "stream",
     "text": [
      "Epoch:  33%|███▎      | 1/3 [00:46<01:32, 46.18s/it]"
     ]
    },
    {
     "name": "stdout",
     "output_type": "stream",
     "text": [
      "Saving model at epoch 0 with validation loss of 0.01868863971893526\n",
      "\n",
      "\n",
      "Train loss: 0.019187489847627557\n"
     ]
    },
    {
     "name": "stderr",
     "output_type": "stream",
     "text": [
      "Epoch:  67%|██████▋   | 2/3 [01:30<00:45, 45.60s/it]"
     ]
    },
    {
     "name": "stdout",
     "output_type": "stream",
     "text": [
      "Valid loss: 0.018892199138852966\n",
      "\n",
      "\n",
      "Train loss: 0.012676952720633508\n",
      "Valid loss: 0.01738318156217389\n"
     ]
    },
    {
     "name": "stderr",
     "output_type": "stream",
     "text": [
      "Epoch: 100%|██████████| 3/3 [02:15<00:00, 45.22s/it]"
     ]
    },
    {
     "name": "stdout",
     "output_type": "stream",
     "text": [
      "Saving model at epoch 2 with validation loss of 0.01738318156217389\n",
      "\n",
      "\n"
     ]
    },
    {
     "name": "stderr",
     "output_type": "stream",
     "text": [
      "\n"
     ]
    }
   ],
   "source": [
    "num_epochs=1\n",
    "\n",
    "cwd = os.getcwd()\n",
    "model_save_path = output_model_file = os.path.join(cwd, \"./Models/xlnet_toxic.bin\")\n",
    "model, train_loss_set, valid_loss_set = train(model=model,\\\n",
    "                                              num_epochs=num_epochs,\\\n",
    "                                              optimizer=optimizer,\\\n",
    "                                              train_dataloader=train_dataloader,\\\n",
    "                                              model_save_path=model_save_path,\\\n",
    "                                              valid_dataloader=validation_dataloader,\\\n",
    "                                              device=\"cuda\")"
   ]
  },
  {
   "cell_type": "code",
   "execution_count": 37,
   "metadata": {
    "colab": {
     "base_uri": "https://localhost:8080/",
     "height": 367
    },
    "id": "e5ZPpkIVffCW",
    "outputId": "197fabe3-86ac-45f5-b09f-e35f05e37fca"
   },
   "outputs": [
    {
     "data": {
      "text/plain": [
       "Text(0.5, 1.0, 'Loss vs Number of Epochs')"
      ]
     },
     "execution_count": 37,
     "metadata": {},
     "output_type": "execute_result"
    },
    {
     "data": {
      "image/png": "[encoded data removed]",
      "text/plain": [
       "<Figure size 720x360 with 1 Axes>"
      ]
     },
     "metadata": {
      "needs_background": "light"
     },
     "output_type": "display_data"
    }
   ],
   "source": [
    "# Plot loss\n",
    "num_epochs = np.arange(len(train_loss_set))\n",
    "\n",
    "fig, ax = plt.subplots(figsize=(10, 5));\n",
    "ax.plot(num_epochs, np.array(train_loss_set), label=\"Train Loss\")\n",
    "ax.plot(num_epochs, np.array(valid_loss_set), 'g-', label=\"Valid Loss\")\n",
    "#ax1.plot(episode_record, lose_record, 'r-', label=\"Lose %\")\n",
    "ax.set_xlabel(\"Number of Epochs\")\n",
    "ax.set_ylabel(\"Loss\")\n",
    "ax.set_title(\"Loss vs Number of Epochs\")"
   ]
  },
  {
   "cell_type": "markdown",
   "metadata": {
    "id": "sHt9MdUoOaLl"
   },
   "source": [
    "## Train Model From Previous Checkpoint"
   ]
  },
  {
   "cell_type": "code",
   "execution_count": 39,
   "metadata": {
    "id": "lzZEnoI3Ob2u"
   },
   "outputs": [],
   "source": [
    "cwd = os.getcwd()\n",
    "model_save_path = output_model_file = os.path.join(cwd, \"./Models/xlnet_toxic.bin\")\n",
    "model, start_epoch, lowest_eval_loss, train_loss_hist, valid_loss_hist = load_model(model_save_path)"
   ]
  },
  {
   "cell_type": "code",
   "execution_count": 40,
   "metadata": {
    "id": "HrTdby8Uaqqb"
   },
   "outputs": [],
   "source": [
    "optimizer = AdamW(model.parameters(), lr=2e-5, weight_decay=0.01, correct_bias=False)"
   ]
  },
  {
   "cell_type": "code",
   "execution_count": 41,
   "metadata": {
    "colab": {
     "base_uri": "https://localhost:8080/",
     "height": 156
    },
    "id": "iiwYWrPsREQ-",
    "outputId": "ab73f925-fcd4-4e8e-b105-cb6ff0078107"
   },
   "outputs": [
    {
     "name": "stderr",
     "output_type": "stream",
     "text": [
      "Epoch:   0%|          | 0/3 [00:00<?, ?it/s]"
     ]
    },
    {
     "name": "stdout",
     "output_type": "stream",
     "text": [
      "Train loss: 0.03820264114379952\n"
     ]
    },
    {
     "name": "stderr",
     "output_type": "stream",
     "text": [
      "Epoch:  33%|███▎      | 1/3 [00:44<01:29, 44.52s/it]"
     ]
    },
    {
     "name": "stdout",
     "output_type": "stream",
     "text": [
      "Valid loss: 0.03679490340540984\n",
      "\n",
      "\n",
      "Train loss: 0.039786739514998656\n"
     ]
    },
    {
     "name": "stderr",
     "output_type": "stream",
     "text": [
      "Epoch:  67%|██████▋   | 2/3 [01:30<00:44, 45.00s/it]"
     ]
    },
    {
     "name": "stdout",
     "output_type": "stream",
     "text": [
      "Valid loss: 0.03794543455088777\n",
      "\n",
      "\n",
      "Train loss: 0.03987335293833584\n"
     ]
    },
    {
     "name": "stderr",
     "output_type": "stream",
     "text": [
      "Epoch: 100%|██████████| 3/3 [02:16<00:00, 45.36s/it]"
     ]
    },
    {
     "name": "stdout",
     "output_type": "stream",
     "text": [
      "Valid loss: 0.03672691692398595\n",
      "\n",
      "\n"
     ]
    },
    {
     "name": "stderr",
     "output_type": "stream",
     "text": [
      "\n"
     ]
    }
   ],
   "source": [
    "'''\n",
    "num_epochs=3\n",
    "model, train_loss_set, valid_loss_set = train(model=model,\\\n",
    "                                              num_epochs=num_epochs,\\\n",
    "                                              optimizer=optimizer,\\\n",
    "                                              train_dataloader=train_dataloader,\\\n",
    "                                              valid_dataloader=validation_dataloader,\\\n",
    "                                              model_save_path=model_save_path,\\\n",
    "                                              train_loss_set=train_loss_hist,\\\n",
    "                                              valid_loss_set=valid_loss_hist,\\\n",
    "                                              lowest_eval_loss=lowest_eval_loss,\\\n",
    "                                              start_epoch=start_epoch,\\\n",
    "                                              device=\"cuda\")\n",
    "'''"
   ]
  },
  {
   "cell_type": "code",
   "execution_count": null,
   "metadata": {
    "colab": {
     "base_uri": "https://localhost:8080/",
     "height": 367
    },
    "id": "cew4rYj16aJl",
    "outputId": "f479d9fc-91fc-43cf-cbb0-390485c308ef"
   },
   "outputs": [],
   "source": [
    "'''\n",
    "# Plot loss\n",
    "num_epochs = np.arange(len(train_loss_set))\n",
    "\n",
    "fig, ax = plt.subplots(figsize=(10, 5));\n",
    "ax.plot(num_epochs, np.array(train_loss_set), label=\"Train Loss\")\n",
    "ax.plot(num_epochs, np.array(valid_loss_set), 'g-', label=\"Valid Loss\")\n",
    "#ax1.plot(episode_record, lose_record, 'r-', label=\"Lose %\")\n",
    "ax.set_xlabel(\"Number of Epochs\")\n",
    "ax.set_ylabel(\"Loss\")\n",
    "ax.set_title(\"Loss vs Number of Epochs\")\n",
    "'''"
   ]
  },
  {
   "cell_type": "markdown",
   "metadata": {
    "id": "12PYfqX3QrE-"
   },
   "source": [
    "\n",
    "## Get Predictions"
   ]
  },
  {
   "cell_type": "code",
   "execution_count": 42,
   "metadata": {
    "id": "Ey9FMYJxQqGs"
   },
   "outputs": [],
   "source": [
    "def generate_predictions(model, df, num_labels, device=\"cpu\", batch_size=32):\n",
    "  num_iter = math.ceil(df.shape[0]/batch_size)\n",
    "  \n",
    "  pred_probs = np.array([]).reshape(0, num_labels)\n",
    "  \n",
    "  model.to(device)\n",
    "  model.eval()\n",
    "  \n",
    "  for i in range(num_iter):\n",
    "    df_subset = df.iloc[i*batch_size:(i+1)*batch_size,:]\n",
    "    X = df_subset[\"features\"].values.tolist()\n",
    "    masks = df_subset[\"masks\"].values.tolist()\n",
    "    X = torch.tensor(X)\n",
    "    masks = torch.tensor(masks, dtype=torch.long)\n",
    "    X = X.to(device)\n",
    "    masks = masks.to(device)\n",
    "    with torch.no_grad():\n",
    "      logits = model(input_ids=X, attention_mask=masks)\n",
    "      logits = logits.sigmoid().detach().cpu().numpy()\n",
    "      pred_probs = np.vstack([pred_probs, logits])\n",
    "  \n",
    "  return pred_probs"
   ]
  },
  {
   "cell_type": "code",
   "execution_count": 43,
   "metadata": {
    "id": "wo0YyAH6XGTh"
   },
   "outputs": [
    {
     "name": "stderr",
     "output_type": "stream",
     "text": [
      "<ipython-input-42-986738fbaa7e>:14: DeprecationWarning: an integer is required (got type float).  Implicit conversion to integers using __int__ is deprecated, and may be removed in a future version of Python.\n",
      "  masks = torch.tensor(masks, dtype=torch.long)\n"
     ]
    },
    {
     "data": {
      "text/plain": [
       "array([[0.08023531, 0.02192326, 0.04550122, 0.00381283, 0.0564946 ,\n",
       "        0.02128491],\n",
       "       [0.08020542, 0.02192162, 0.04549119, 0.00381127, 0.05647327,\n",
       "        0.02127783],\n",
       "       [0.0802015 , 0.02191803, 0.04548379, 0.00381077, 0.05647207,\n",
       "        0.02127663],\n",
       "       ...,\n",
       "       [0.08028212, 0.02192844, 0.04552598, 0.00381501, 0.05651743,\n",
       "        0.02130077],\n",
       "       [0.08020146, 0.02191907, 0.04549675, 0.00381139, 0.05647778,\n",
       "        0.0212813 ],\n",
       "       [0.08020795, 0.02192228, 0.04549501, 0.0038113 , 0.05647838,\n",
       "        0.0212843 ]])"
      ]
     },
     "execution_count": 43,
     "metadata": {},
     "output_type": "execute_result"
    }
   ],
   "source": [
    "num_labels = len(label_cols)\n",
    "pred_probs = generate_predictions(model, test, num_labels, device=\"cuda\", batch_size=32)\n",
    "pred_probs"
   ]
  },
  {
   "cell_type": "code",
   "execution_count": 44,
   "metadata": {
    "id": "uVAWKam2ado5"
   },
   "outputs": [],
   "source": [
    "label_cols = [\"toxic\", \"severe_toxic\", \"obscene\", \"threat\", \"insult\", \"identity_hate\"]\n",
    "\n",
    "test[\"toxic\"] = pred_probs[:,0]\n",
    "test[\"severe_toxic\"] = pred_probs[:,1]\n",
    "test[\"obscene\"] = pred_probs[:,2]\n",
    "test[\"threat\"] = pred_probs[:,3]\n",
    "test[\"insult\"] = pred_probs[:,4]\n",
    "test[\"identity_hate\"] = pred_probs[:,5]"
   ]
  },
  {
   "cell_type": "code",
   "execution_count": 45,
   "metadata": {
    "colab": {
     "base_uri": "https://localhost:8080/",
     "height": 324
    },
    "id": "r_l6LVlX_R9J",
    "outputId": "b3c0b724-fd29-46b6-c518-91cd4405bd4c"
   },
   "outputs": [
    {
     "data": {
      "text/html": [
       "<div>\n",
       "<style scoped>\n",
       "    .dataframe tbody tr th:only-of-type {\n",
       "        vertical-align: middle;\n",
       "    }\n",
       "\n",
       "    .dataframe tbody tr th {\n",
       "        vertical-align: top;\n",
       "    }\n",
       "\n",
       "    .dataframe thead th {\n",
       "        text-align: right;\n",
       "    }\n",
       "</style>\n",
       "<table border=\"1\" class=\"dataframe\">\n",
       "  <thead>\n",
       "    <tr style=\"text-align: right;\">\n",
       "      <th></th>\n",
       "      <th>comment_text</th>\n",
       "      <th>toxic</th>\n",
       "      <th>severe_toxic</th>\n",
       "      <th>obscene</th>\n",
       "      <th>threat</th>\n",
       "      <th>insult</th>\n",
       "      <th>identity_hate</th>\n",
       "      <th>features</th>\n",
       "      <th>masks</th>\n",
       "    </tr>\n",
       "    <tr>\n",
       "      <th>id</th>\n",
       "      <th></th>\n",
       "      <th></th>\n",
       "      <th></th>\n",
       "      <th></th>\n",
       "      <th></th>\n",
       "      <th></th>\n",
       "      <th></th>\n",
       "      <th></th>\n",
       "      <th></th>\n",
       "    </tr>\n",
       "  </thead>\n",
       "  <tbody>\n",
       "    <tr>\n",
       "      <th>a818c1bb0a2ecab6</th>\n",
       "      <td>\"\\n\\n haiti \\nhey, can you explain what the wi...</td>\n",
       "      <td>0.080235</td>\n",
       "      <td>0.021923</td>\n",
       "      <td>0.045501</td>\n",
       "      <td>0.003813</td>\n",
       "      <td>0.056495</td>\n",
       "      <td>0.021285</td>\n",
       "      <td>[17, 12, 10118, 6225, 43, 117, 19, 64, 44, 308...</td>\n",
       "      <td>[1.0, 1.0, 1.0, 1.0, 1.0, 1.0, 1.0, 1.0, 1.0, ...</td>\n",
       "    </tr>\n",
       "    <tr>\n",
       "      <th>92647af04527a57d</th>\n",
       "      <td>I completely agree. Let's see if I can make it...</td>\n",
       "      <td>0.080205</td>\n",
       "      <td>0.021922</td>\n",
       "      <td>0.045491</td>\n",
       "      <td>0.003811</td>\n",
       "      <td>0.056473</td>\n",
       "      <td>0.021278</td>\n",
       "      <td>[17, 150, 1755, 2125, 9, 618, 26, 23, 197, 108...</td>\n",
       "      <td>[1.0, 1.0, 1.0, 1.0, 1.0, 1.0, 1.0, 1.0, 1.0, ...</td>\n",
       "    </tr>\n",
       "    <tr>\n",
       "      <th>7d6cc99efbc1c92c</th>\n",
       "      <td>Dr Dan has IMO good idea on this conflict. I t...</td>\n",
       "      <td>0.080201</td>\n",
       "      <td>0.021918</td>\n",
       "      <td>0.045484</td>\n",
       "      <td>0.003811</td>\n",
       "      <td>0.056472</td>\n",
       "      <td>0.021277</td>\n",
       "      <td>[17, 7841, 17, 4731, 51, 17, 14597, 195, 875, ...</td>\n",
       "      <td>[1.0, 1.0, 1.0, 1.0, 1.0, 1.0, 1.0, 1.0, 1.0, ...</td>\n",
       "    </tr>\n",
       "    <tr>\n",
       "      <th>203ce75ab36c8b2b</th>\n",
       "      <td>Hey Burgas00, why did you make that personal a...</td>\n",
       "      <td>0.080193</td>\n",
       "      <td>0.021921</td>\n",
       "      <td>0.045492</td>\n",
       "      <td>0.003811</td>\n",
       "      <td>0.056470</td>\n",
       "      <td>0.021279</td>\n",
       "      <td>[43, 117, 17, 5036, 712, 1428, 19, 611, 190, 4...</td>\n",
       "      <td>[1.0, 1.0, 1.0, 1.0, 1.0, 1.0, 1.0, 1.0, 1.0, ...</td>\n",
       "    </tr>\n",
       "    <tr>\n",
       "      <th>e1eb4f245dfacc5c</th>\n",
       "      <td>Tamerlan Tsarnaev cause of death\\nMost news me...</td>\n",
       "      <td>0.080251</td>\n",
       "      <td>0.021929</td>\n",
       "      <td>0.045515</td>\n",
       "      <td>0.003813</td>\n",
       "      <td>0.056499</td>\n",
       "      <td>0.021292</td>\n",
       "      <td>[17, 7575, 118, 1941, 17, 46, 7970, 597, 3799,...</td>\n",
       "      <td>[1.0, 1.0, 1.0, 1.0, 1.0, 1.0, 1.0, 1.0, 1.0, ...</td>\n",
       "    </tr>\n",
       "  </tbody>\n",
       "</table>\n",
       "</div>"
      ],
      "text/plain": [
       "                                                       comment_text     toxic  \\\n",
       "id                                                                              \n",
       "a818c1bb0a2ecab6  \"\\n\\n haiti \\nhey, can you explain what the wi...  0.080235   \n",
       "92647af04527a57d  I completely agree. Let's see if I can make it...  0.080205   \n",
       "7d6cc99efbc1c92c  Dr Dan has IMO good idea on this conflict. I t...  0.080201   \n",
       "203ce75ab36c8b2b  Hey Burgas00, why did you make that personal a...  0.080193   \n",
       "e1eb4f245dfacc5c  Tamerlan Tsarnaev cause of death\\nMost news me...  0.080251   \n",
       "\n",
       "                  severe_toxic   obscene    threat    insult  identity_hate  \\\n",
       "id                                                                            \n",
       "a818c1bb0a2ecab6      0.021923  0.045501  0.003813  0.056495       0.021285   \n",
       "92647af04527a57d      0.021922  0.045491  0.003811  0.056473       0.021278   \n",
       "7d6cc99efbc1c92c      0.021918  0.045484  0.003811  0.056472       0.021277   \n",
       "203ce75ab36c8b2b      0.021921  0.045492  0.003811  0.056470       0.021279   \n",
       "e1eb4f245dfacc5c      0.021929  0.045515  0.003813  0.056499       0.021292   \n",
       "\n",
       "                                                           features  \\\n",
       "id                                                                    \n",
       "a818c1bb0a2ecab6  [17, 12, 10118, 6225, 43, 117, 19, 64, 44, 308...   \n",
       "92647af04527a57d  [17, 150, 1755, 2125, 9, 618, 26, 23, 197, 108...   \n",
       "7d6cc99efbc1c92c  [17, 7841, 17, 4731, 51, 17, 14597, 195, 875, ...   \n",
       "203ce75ab36c8b2b  [43, 117, 17, 5036, 712, 1428, 19, 611, 190, 4...   \n",
       "e1eb4f245dfacc5c  [17, 7575, 118, 1941, 17, 46, 7970, 597, 3799,...   \n",
       "\n",
       "                                                              masks  \n",
       "id                                                                   \n",
       "a818c1bb0a2ecab6  [1.0, 1.0, 1.0, 1.0, 1.0, 1.0, 1.0, 1.0, 1.0, ...  \n",
       "92647af04527a57d  [1.0, 1.0, 1.0, 1.0, 1.0, 1.0, 1.0, 1.0, 1.0, ...  \n",
       "7d6cc99efbc1c92c  [1.0, 1.0, 1.0, 1.0, 1.0, 1.0, 1.0, 1.0, 1.0, ...  \n",
       "203ce75ab36c8b2b  [1.0, 1.0, 1.0, 1.0, 1.0, 1.0, 1.0, 1.0, 1.0, ...  \n",
       "e1eb4f245dfacc5c  [1.0, 1.0, 1.0, 1.0, 1.0, 1.0, 1.0, 1.0, 1.0, ...  "
      ]
     },
     "execution_count": 45,
     "metadata": {},
     "output_type": "execute_result"
    }
   ],
   "source": [
    "test.head()"
   ]
  },
  {
   "cell_type": "code",
   "execution_count": 46,
   "metadata": {
    "colab": {
     "base_uri": "https://localhost:8080/",
     "height": 293
    },
    "id": "dpE1pjPIAJGg",
    "outputId": "75425da7-37f8-4dd4-a21b-7d80278a19c3"
   },
   "outputs": [
    {
     "data": {
      "text/html": [
       "<div>\n",
       "<style scoped>\n",
       "    .dataframe tbody tr th:only-of-type {\n",
       "        vertical-align: middle;\n",
       "    }\n",
       "\n",
       "    .dataframe tbody tr th {\n",
       "        vertical-align: top;\n",
       "    }\n",
       "\n",
       "    .dataframe thead th {\n",
       "        text-align: right;\n",
       "    }\n",
       "</style>\n",
       "<table border=\"1\" class=\"dataframe\">\n",
       "  <thead>\n",
       "    <tr style=\"text-align: right;\">\n",
       "      <th></th>\n",
       "      <th>id</th>\n",
       "      <th>comment_text</th>\n",
       "      <th>toxic</th>\n",
       "      <th>severe_toxic</th>\n",
       "      <th>obscene</th>\n",
       "      <th>threat</th>\n",
       "      <th>insult</th>\n",
       "      <th>identity_hate</th>\n",
       "      <th>features</th>\n",
       "      <th>masks</th>\n",
       "    </tr>\n",
       "  </thead>\n",
       "  <tbody>\n",
       "    <tr>\n",
       "      <th>0</th>\n",
       "      <td>a818c1bb0a2ecab6</td>\n",
       "      <td>\"\\n\\n haiti \\nhey, can you explain what the wi...</td>\n",
       "      <td>0.080235</td>\n",
       "      <td>0.021923</td>\n",
       "      <td>0.045501</td>\n",
       "      <td>0.003813</td>\n",
       "      <td>0.056495</td>\n",
       "      <td>0.021285</td>\n",
       "      <td>[17, 12, 10118, 6225, 43, 117, 19, 64, 44, 308...</td>\n",
       "      <td>[1.0, 1.0, 1.0, 1.0, 1.0, 1.0, 1.0, 1.0, 1.0, ...</td>\n",
       "    </tr>\n",
       "    <tr>\n",
       "      <th>1</th>\n",
       "      <td>92647af04527a57d</td>\n",
       "      <td>I completely agree. Let's see if I can make it...</td>\n",
       "      <td>0.080205</td>\n",
       "      <td>0.021922</td>\n",
       "      <td>0.045491</td>\n",
       "      <td>0.003811</td>\n",
       "      <td>0.056473</td>\n",
       "      <td>0.021278</td>\n",
       "      <td>[17, 150, 1755, 2125, 9, 618, 26, 23, 197, 108...</td>\n",
       "      <td>[1.0, 1.0, 1.0, 1.0, 1.0, 1.0, 1.0, 1.0, 1.0, ...</td>\n",
       "    </tr>\n",
       "    <tr>\n",
       "      <th>2</th>\n",
       "      <td>7d6cc99efbc1c92c</td>\n",
       "      <td>Dr Dan has IMO good idea on this conflict. I t...</td>\n",
       "      <td>0.080201</td>\n",
       "      <td>0.021918</td>\n",
       "      <td>0.045484</td>\n",
       "      <td>0.003811</td>\n",
       "      <td>0.056472</td>\n",
       "      <td>0.021277</td>\n",
       "      <td>[17, 7841, 17, 4731, 51, 17, 14597, 195, 875, ...</td>\n",
       "      <td>[1.0, 1.0, 1.0, 1.0, 1.0, 1.0, 1.0, 1.0, 1.0, ...</td>\n",
       "    </tr>\n",
       "    <tr>\n",
       "      <th>3</th>\n",
       "      <td>203ce75ab36c8b2b</td>\n",
       "      <td>Hey Burgas00, why did you make that personal a...</td>\n",
       "      <td>0.080193</td>\n",
       "      <td>0.021921</td>\n",
       "      <td>0.045492</td>\n",
       "      <td>0.003811</td>\n",
       "      <td>0.056470</td>\n",
       "      <td>0.021279</td>\n",
       "      <td>[43, 117, 17, 5036, 712, 1428, 19, 611, 190, 4...</td>\n",
       "      <td>[1.0, 1.0, 1.0, 1.0, 1.0, 1.0, 1.0, 1.0, 1.0, ...</td>\n",
       "    </tr>\n",
       "    <tr>\n",
       "      <th>4</th>\n",
       "      <td>e1eb4f245dfacc5c</td>\n",
       "      <td>Tamerlan Tsarnaev cause of death\\nMost news me...</td>\n",
       "      <td>0.080251</td>\n",
       "      <td>0.021929</td>\n",
       "      <td>0.045515</td>\n",
       "      <td>0.003813</td>\n",
       "      <td>0.056499</td>\n",
       "      <td>0.021292</td>\n",
       "      <td>[17, 7575, 118, 1941, 17, 46, 7970, 597, 3799,...</td>\n",
       "      <td>[1.0, 1.0, 1.0, 1.0, 1.0, 1.0, 1.0, 1.0, 1.0, ...</td>\n",
       "    </tr>\n",
       "  </tbody>\n",
       "</table>\n",
       "</div>"
      ],
      "text/plain": [
       "                 id                                       comment_text  \\\n",
       "0  a818c1bb0a2ecab6  \"\\n\\n haiti \\nhey, can you explain what the wi...   \n",
       "1  92647af04527a57d  I completely agree. Let's see if I can make it...   \n",
       "2  7d6cc99efbc1c92c  Dr Dan has IMO good idea on this conflict. I t...   \n",
       "3  203ce75ab36c8b2b  Hey Burgas00, why did you make that personal a...   \n",
       "4  e1eb4f245dfacc5c  Tamerlan Tsarnaev cause of death\\nMost news me...   \n",
       "\n",
       "      toxic  severe_toxic   obscene    threat    insult  identity_hate  \\\n",
       "0  0.080235      0.021923  0.045501  0.003813  0.056495       0.021285   \n",
       "1  0.080205      0.021922  0.045491  0.003811  0.056473       0.021278   \n",
       "2  0.080201      0.021918  0.045484  0.003811  0.056472       0.021277   \n",
       "3  0.080193      0.021921  0.045492  0.003811  0.056470       0.021279   \n",
       "4  0.080251      0.021929  0.045515  0.003813  0.056499       0.021292   \n",
       "\n",
       "                                            features  \\\n",
       "0  [17, 12, 10118, 6225, 43, 117, 19, 64, 44, 308...   \n",
       "1  [17, 150, 1755, 2125, 9, 618, 26, 23, 197, 108...   \n",
       "2  [17, 7841, 17, 4731, 51, 17, 14597, 195, 875, ...   \n",
       "3  [43, 117, 17, 5036, 712, 1428, 19, 611, 190, 4...   \n",
       "4  [17, 7575, 118, 1941, 17, 46, 7970, 597, 3799,...   \n",
       "\n",
       "                                               masks  \n",
       "0  [1.0, 1.0, 1.0, 1.0, 1.0, 1.0, 1.0, 1.0, 1.0, ...  \n",
       "1  [1.0, 1.0, 1.0, 1.0, 1.0, 1.0, 1.0, 1.0, 1.0, ...  \n",
       "2  [1.0, 1.0, 1.0, 1.0, 1.0, 1.0, 1.0, 1.0, 1.0, ...  \n",
       "3  [1.0, 1.0, 1.0, 1.0, 1.0, 1.0, 1.0, 1.0, 1.0, ...  \n",
       "4  [1.0, 1.0, 1.0, 1.0, 1.0, 1.0, 1.0, 1.0, 1.0, ...  "
      ]
     },
     "execution_count": 46,
     "metadata": {},
     "output_type": "execute_result"
    }
   ],
   "source": [
    "test_to_csv = test.reset_index()\n",
    "test_to_csv.head()"
   ]
  },
  {
   "cell_type": "code",
   "execution_count": 47,
   "metadata": {
    "id": "mF95PeFM_rDh"
   },
   "outputs": [],
   "source": [
    "cwd = os.getcwd()\n",
    "pred_save_path = output_model_file = os.path.join(cwd, \"./Data/toxic_1_epoch_small.csv\")\n",
    "test_to_csv[[\"id\", \"toxic\", \"severe_toxic\", \"obscene\", \"threat\", \"insult\", \"identity_hate\"]].to_csv(pred_save_path, index=False)"
   ]
  },
  {
   "cell_type": "code",
   "execution_count": null,
   "metadata": {
    "id": "tBnRrhxrjlEj"
   },
   "outputs": [],
   "source": [
    "np.round(pred_probs)\n",
    "# pred_probs"
   ]
  }
 ],
 "metadata": {
  "colab": {
   "collapsed_sections": [],
   "name": "XLNet_toxic_comment_classification_challenge_share.ipynb",
   "provenance": []
  },
  "kernelspec": {
   "display_name": "Python 3",
   "language": "python",
   "name": "python3"
  },
  "language_info": {
   "codemirror_mode": {
    "name": "ipython",
    "version": 3
   },
   "file_extension": ".py",
   "mimetype": "text/x-python",
   "name": "python",
   "nbconvert_exporter": "python",
   "pygments_lexer": "ipython3",
   "version": "3.8.5"
  }
 },
 "nbformat": 4,
 "nbformat_minor": 4
}
